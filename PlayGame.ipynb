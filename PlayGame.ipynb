{
 "cells": [
  {
   "cell_type": "code",
   "execution_count": null,
   "metadata": {},
   "outputs": [],
   "source": [
    "from BG_main import *\n",
    "#time_scale: int = number of action per player and turn.\n",
    "game_launcher(nb_players= 2, time_scale= 5)"
   ]
  },
  {
   "cell_type": "code",
   "execution_count": null,
   "metadata": {},
   "outputs": [
    {
     "name": "stdout",
     "output_type": "stream",
     "text": [
      "╔════════════════════════════════╗\n",
      "║ Warband: Default Bname         ║\n",
      "╠════════════════════════════════╣\n",
      "║ Molten Rock        ║ 3   ║ 4   ║\n",
      "║ Backstage Security ║ 4   ║ 6   ║\n",
      "║ Soul Rewinder      ║ 2   ║ 1   ║\n",
      "║ Sellemental        ║ 2   ║ 2   ║\n",
      "╚════════════════════════════════╝\n"
     ]
    }
   ],
   "source": [
    "#minions = [Minion(1,2) for _ in range(nb)]\n",
    "\n",
    "minion1 = Minion.from_name('Molten Rock')\n",
    "minion4 = Minion.from_name('Sellemental')\n",
    "minion2 = Minion.from_name('Backstage Security')\n",
    "minion3 = Minion.from_name('Soul Rewinder')\n",
    "\n",
    "#warband1 = Warband([minion1,minion2,minion3,minion4],'warband1')\n",
    "warband1 = Warband([minion1,minion2,minion3,minion4])\n",
    "min1 = Minion.from_name('Spawn of NZoth')\n",
    "min2 = Minion(Eternal_Knight)\n",
    "\n",
    "#warband2 = Warband([min1,min2,min3,min4],'warband2')\n",
    "\n",
    "warband2 = ShopBand([min1,min2])\n",
    "\n",
    "warband1.show()\n"
   ]
  }
 ],
 "metadata": {
  "kernelspec": {
   "display_name": "Python 3",
   "language": "python",
   "name": "python3"
  },
  "language_info": {
   "codemirror_mode": {
    "name": "ipython",
    "version": 3
   },
   "file_extension": ".py",
   "mimetype": "text/x-python",
   "name": "python",
   "nbconvert_exporter": "python",
   "pygments_lexer": "ipython3",
   "version": "3.11.3"
  },
  "orig_nbformat": 4
 },
 "nbformat": 4,
 "nbformat_minor": 2
}
